{
  "nbformat": 4,
  "nbformat_minor": 0,
  "metadata": {
    "colab": {
      "name": "FuerzaBruta.ipynb",
      "provenance": [],
      "authorship_tag": "ABX9TyNudc0irb+PYASh+3bg0jJK",
      "include_colab_link": true
    },
    "kernelspec": {
      "name": "python3",
      "display_name": "Python 3"
    }
  },
  "cells": [
    {
      "cell_type": "markdown",
      "metadata": {
        "id": "view-in-github",
        "colab_type": "text"
      },
      "source": [
        "<a href=\"https://colab.research.google.com/github/Crihstito/Daa_2021_1/blob/master/FuerzaBruta.ipynb\" target=\"_parent\"><img src=\"https://colab.research.google.com/assets/colab-badge.svg\" alt=\"Open In Colab\"/></a>"
      ]
    },
    {
      "cell_type": "code",
      "metadata": {
        "colab": {
          "base_uri": "https://localhost:8080/"
        },
        "id": "ydDGO3OiymrK",
        "outputId": "77c7310e-5ea2-4a78-9f14-dbbb72e17afa"
      },
      "source": [
        "import re \n",
        "cadena = '''El lema que anima a la Universidad Nacional, Por mi raza hablará el espíritu, revela la vocación humanística \n",
        "con la que fue concebida. El autor de esta célebre frase, José Vasconcelos, \n",
        "asumió la rectoría en 1920, en una época en que las esperanzas de la Revolución aún estaban vivas,\n",
        "había una gran fé en la Patria y el ánimo redentor se extendía en el ambiente.'''\n",
        "\n",
        "remove = \".,\"  #Creamos una nueva cadena la cal nos dara la referencia de los caracteresters que deseamos eliminar\n",
        "for i in remove: #Recorremos la nueva cadena para identificar los caracteres que no querramos en la cadena original\n",
        "  cadena = cadena.replace(i,\"\") #Remplazamos nuestro indice del nuestro ciclo por un caracter vacio  en caso de que se haya encontrado algun punto o una coma\n",
        "print(cadena + \"\\n\") #Verificamos que haya removido las comas y puntoss\n",
        "cadena = cadena.lower() #COnvertimos todos los caracteres de la cadena a minusculas\n",
        "print(cadena + \"\\n\") #Verificamos que haya converido a minusculas todas las letras\n",
        "\n",
        "listadepalabras = cadena.split(\" \") #Sepramos las plabras de nuestra cadena en una lista\n",
        "repeticiones = {} #Creamos un diccionario vacio para posteriormente agregar nuestras palabras repetidas\n",
        "\n",
        "for j in listadepalabras: #Mediante un ciclo recorremos las palabras de la cadena\n",
        "    if j in repeticiones: #Condicionamos para verificar si la palabra se repite\n",
        "        repeticiones[j] += 1 #Encaso de que si aunmentamos uno al elemento \n",
        "    else: \n",
        "        repeticiones[j] = 1 #De lo contrario solo colocamos la unica vez que aparece\n",
        "\n",
        "for j in repeticiones: #Recorremos los elementos que tenemos en nuestro diccionario de repeticiones\n",
        "    repeticion = repeticiones[j]  #Igualamos a una nueva varible que esta ya tendra el nuemro de veces que se repite la palabra\n",
        "    print(\"La palabra '{}' se repite {} veces\".format(j,repeticion))"
      ],
      "execution_count": 11,
      "outputs": [
        {
          "output_type": "stream",
          "text": [
            "El lema que anima a la Universidad Nacional Por mi raza hablará el espíritu revela la vocación humanística \n",
            "con la que fue concebida El autor de esta célebre frase José Vasconcelos \n",
            "asumió la rectoría en 1920 en una época en que las esperanzas de la Revolución aún estaban vivas\n",
            "había una gran fé en la Patria y el ánimo redentor se extendía en el ambiente\n",
            "\n",
            "el lema que anima a la universidad nacional por mi raza hablará el espíritu revela la vocación humanística \n",
            "con la que fue concebida el autor de esta célebre frase josé vasconcelos \n",
            "asumió la rectoría en 1920 en una época en que las esperanzas de la revolución aún estaban vivas\n",
            "había una gran fé en la patria y el ánimo redentor se extendía en el ambiente\n",
            "\n",
            "La palabra 'el' se repite 5 veces\n",
            "La palabra 'lema' se repite 1 veces\n",
            "La palabra 'que' se repite 3 veces\n",
            "La palabra 'anima' se repite 1 veces\n",
            "La palabra 'a' se repite 1 veces\n",
            "La palabra 'la' se repite 6 veces\n",
            "La palabra 'universidad' se repite 1 veces\n",
            "La palabra 'nacional' se repite 1 veces\n",
            "La palabra 'por' se repite 1 veces\n",
            "La palabra 'mi' se repite 1 veces\n",
            "La palabra 'raza' se repite 1 veces\n",
            "La palabra 'hablará' se repite 1 veces\n",
            "La palabra 'espíritu' se repite 1 veces\n",
            "La palabra 'revela' se repite 1 veces\n",
            "La palabra 'vocación' se repite 1 veces\n",
            "La palabra 'humanística' se repite 1 veces\n",
            "La palabra '\n",
            "con' se repite 1 veces\n",
            "La palabra 'fue' se repite 1 veces\n",
            "La palabra 'concebida' se repite 1 veces\n",
            "La palabra 'autor' se repite 1 veces\n",
            "La palabra 'de' se repite 2 veces\n",
            "La palabra 'esta' se repite 1 veces\n",
            "La palabra 'célebre' se repite 1 veces\n",
            "La palabra 'frase' se repite 1 veces\n",
            "La palabra 'josé' se repite 1 veces\n",
            "La palabra 'vasconcelos' se repite 1 veces\n",
            "La palabra '\n",
            "asumió' se repite 1 veces\n",
            "La palabra 'rectoría' se repite 1 veces\n",
            "La palabra 'en' se repite 5 veces\n",
            "La palabra '1920' se repite 1 veces\n",
            "La palabra 'una' se repite 2 veces\n",
            "La palabra 'época' se repite 1 veces\n",
            "La palabra 'las' se repite 1 veces\n",
            "La palabra 'esperanzas' se repite 1 veces\n",
            "La palabra 'revolución' se repite 1 veces\n",
            "La palabra 'aún' se repite 1 veces\n",
            "La palabra 'estaban' se repite 1 veces\n",
            "La palabra 'vivas\n",
            "había' se repite 1 veces\n",
            "La palabra 'gran' se repite 1 veces\n",
            "La palabra 'fé' se repite 1 veces\n",
            "La palabra 'patria' se repite 1 veces\n",
            "La palabra 'y' se repite 1 veces\n",
            "La palabra 'ánimo' se repite 1 veces\n",
            "La palabra 'redentor' se repite 1 veces\n",
            "La palabra 'se' se repite 1 veces\n",
            "La palabra 'extendía' se repite 1 veces\n",
            "La palabra 'ambiente' se repite 1 veces\n"
          ],
          "name": "stdout"
        }
      ]
    },
    {
      "cell_type": "code",
      "metadata": {
        "id": "d-0uLSzM27Cy"
      },
      "source": [
        ""
      ],
      "execution_count": null,
      "outputs": []
    }
  ]
}