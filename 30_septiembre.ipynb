{
  "nbformat": 4,
  "nbformat_minor": 0,
  "metadata": {
    "colab": {
      "name": "30 septiembre.ipynb",
      "provenance": [],
      "collapsed_sections": [],
      "authorship_tag": "ABX9TyMs7uMU7Nt45T/ZRyK44zaL",
      "include_colab_link": true
    },
    "kernelspec": {
      "name": "python3",
      "display_name": "Python 3"
    }
  },
  "cells": [
    {
      "cell_type": "markdown",
      "metadata": {
        "id": "view-in-github",
        "colab_type": "text"
      },
      "source": [
        "<a href=\"https://colab.research.google.com/github/Crihstito/Daa_2021_1/blob/master/30_septiembre.ipynb\" target=\"_parent\"><img src=\"https://colab.research.google.com/assets/colab-badge.svg\" alt=\"Open In Colab\"/></a>"
      ]
    },
    {
      "cell_type": "markdown",
      "metadata": {
        "id": "Q81n3mX-RJF0"
      },
      "source": [
        "#Palindromo \n",
        "Es una palabra que se lee, de igual forma de un sentido y de sentido inverso, ejemplo:\n",
        "1.-suwus \n",
        "2.-oso\n",
        "3.-reconocer"
      ]
    },
    {
      "cell_type": "markdown",
      "metadata": {
        "id": "czrUwv6qRWnx"
      },
      "source": [
        "##Plantamiento del problema\n",
        "Se desea encontrar todos los palindromos que existen en la franja horaria de un dia completo,tomando como horario inicial las 00:00 y como horario final las 23:59 horas\n",
        "El algoritmo debe mostrar en pantalla todos los palindromos existentes es ese rango, al final debe mostrar el conteo de total de palindromos existentes.\n"
      ]
    },
    {
      "cell_type": "code",
      "metadata": {
        "id": "rtDNDGG1SAuP",
        "outputId": "d4b0eb72-db9f-4887-883d-9894f5d7a107",
        "colab": {
          "base_uri": "https://localhost:8080/",
          "height": 302
        }
      },
      "source": [
        "#solucion:\n",
        "total = int(0) #Contador de numero de palindromos\n",
        "for hor in range(0,24): #Bucles anidados for para dar aumentar las horas y los minutos al mismo tiempo\n",
        "  for min in range(0,60):\n",
        "\n",
        "    hor_n = str(hor) #Variables\n",
        "    min_n = str(min)\n",
        "\n",
        "    if (hor<10): #USamos condiciones para que las horas y los minutos no rebasen el horario\n",
        "      hor_n = (\"0\"+hor_n)\n",
        "\n",
        "    if (min<10):\n",
        "      min_n = (\"0\"+ min_n)\n",
        "\n",
        "    if (hor_n[::-1] == min_n): #Mediante un slicing le damos el formato a las horas para que este empiece desde la derecha\n",
        "      print(\"{}:{}\".format(hor_n,min_n))\n",
        "      total += 1\n",
        "\n",
        "print(\"Total de palindromos {} \".format(str(total)))"
      ],
      "execution_count": 30,
      "outputs": [
        {
          "output_type": "stream",
          "text": [
            "00:00\n",
            "01:10\n",
            "02:20\n",
            "03:30\n",
            "04:40\n",
            "05:50\n",
            "10:01\n",
            "11:11\n",
            "12:21\n",
            "13:31\n",
            "14:41\n",
            "15:51\n",
            "20:02\n",
            "21:12\n",
            "22:22\n",
            "23:32\n",
            "Total de palindromos 16 \n"
          ],
          "name": "stdout"
        }
      ]
    },
    {
      "cell_type": "code",
      "metadata": {
        "id": "W8TpvUQBWyo9"
      },
      "source": [
        ""
      ],
      "execution_count": null,
      "outputs": []
    }
  ]
}