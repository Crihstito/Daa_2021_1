{
  "nbformat": 4,
  "nbformat_minor": 0,
  "metadata": {
    "colab": {
      "name": "19 Octubre.ipynb",
      "provenance": [],
      "authorship_tag": "ABX9TyMvBfP1BVNMd8+WmfniaLRa",
      "include_colab_link": true
    },
    "kernelspec": {
      "name": "python3",
      "display_name": "Python 3"
    }
  },
  "cells": [
    {
      "cell_type": "markdown",
      "metadata": {
        "id": "view-in-github",
        "colab_type": "text"
      },
      "source": [
        "<a href=\"https://colab.research.google.com/github/Crihstito/Daa_2021_1/blob/master/19_Octubre.ipynb\" target=\"_parent\"><img src=\"https://colab.research.google.com/assets/colab-badge.svg\" alt=\"Open In Colab\"/></a>"
      ]
    },
    {
      "cell_type": "code",
      "metadata": {
        "id": "H9vdASYuRxch"
      },
      "source": [
        "def expresionlogaritmica(n):\n",
        "  print(\"Nivel1\")\n",
        "  count =0\n",
        "  i=n\n",
        "  while i >= 1:\n",
        "    print(\"Nivel2\")\n",
        "    count+=1\n",
        "    i=i//2\n",
        "  basura=3+2\n",
        "  return count\n",
        "\n",
        "variable= expresionlogaritmica(100)\n",
        "print(variable)"
      ],
      "execution_count": null,
      "outputs": []
    },
    {
      "cell_type": "markdown",
      "metadata": {
        "id": "v7xdph4OWIHK"
      },
      "source": [
        "![image.png](data:image/png;base64,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)"
      ]
    },
    {
      "cell_type": "markdown",
      "metadata": {
        "id": "M5D4eKruThxl"
      },
      "source": [
        "Profesor acabo de notar que puso la activdad 7 en el clasrom pero no me di cuenta en el momento pero si tengo mi codigo, espero me lo pueda tomar aun asi \n"
      ]
    },
    {
      "cell_type": "code",
      "metadata": {
        "id": "ENYApfLUTwnD"
      },
      "source": [
        "a2d=[[3,2,1],[6,4,8],[7,4,2]]\n",
        "n=3\n",
        "print(a2d)\n",
        "total=0\n",
        "print(\"Nivel 1\")\n",
        "for ren in range(n):\n",
        "  sumaRenglon=0\n",
        "  print(\"Nivel 2\")\n",
        "  for col in range(n):\n",
        "    sumaRenglon+= a2d[ren][col]\n",
        "    total+=a2d[ren][col]\n",
        "    print(\"Nivel 3\")\n",
        "print(total)"
      ],
      "execution_count": null,
      "outputs": []
    }
  ]
}