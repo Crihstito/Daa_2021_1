{
  "nbformat": 4,
  "nbformat_minor": 0,
  "metadata": {
    "colab": {
      "name": "Tarea10.ipynb",
      "provenance": [],
      "authorship_tag": "ABX9TyNhPIXh91MSTD9IIG/+bz5l",
      "include_colab_link": true
    },
    "kernelspec": {
      "name": "python3",
      "display_name": "Python 3"
    }
  },
  "cells": [
    {
      "cell_type": "markdown",
      "metadata": {
        "id": "view-in-github",
        "colab_type": "text"
      },
      "source": [
        "<a href=\"https://colab.research.google.com/github/Crihstito/Daa_2021_1/blob/master/Tarea10.ipynb\" target=\"_parent\"><img src=\"https://colab.research.google.com/assets/colab-badge.svg\" alt=\"Open In Colab\"/></a>"
      ]
    },
    {
      "cell_type": "code",
      "metadata": {
        "id": "btWX4c8_fLEz"
      },
      "source": [
        "def main():\r\n",
        "\r\n",
        "    arbol = Nodo(1)\r\n",
        "    arbol.izquierda = Nodo(12)\r\n",
        "    arbol.derecha = Nodo(64)\r\n",
        "    arbol.izquierda.izquierda = Nodo(97)\r\n",
        "    arbol.izquierda.derecha = Nodo(16)\r\n",
        "    arbol.derecha.izquierda = Nodo(74)\r\n",
        "    arbol.derecha.derecha= Nodo(37)\r\n",
        "    arbol.derecha.derecha.derecha = Nodo(7)\r\n",
        "\r\n",
        "    valor = NodoAlto()\r\n",
        "    print('El nodo mas abajo es:', valor.NodoBajo(arbol))\r\n",
        "\r\n",
        "if __name__=='__main__':\r\n",
        "    main()"
      ],
      "execution_count": null,
      "outputs": []
    },
    {
      "cell_type": "code",
      "metadata": {
        "id": "dEklrfOjjfur"
      },
      "source": [
        "def main():\r\n",
        "\r\n",
        "    arbol = Nodo(16)\r\n",
        "    arbol.derecha = Nodo(67)\r\n",
        "    arbol.izquierda = Nodo(19)\r\n",
        "    arbol.izquierda.izquierda = Nodo(61)\r\n",
        "    arbol.izquierda.derecha = Nodo(30)\r\n",
        "    arbol.derecha.derecha= Nodo(25)\r\n",
        "    arbol.derecha.izquierda = Nodo(70)\r\n",
        "    arbol.derecha.derecha.derecha = Nodo(12)\r\n",
        "\r\n",
        "\r\n",
        "\r\n",
        "    valor = NodoAlto()\r\n",
        "    print('El nodo mas abajo es:', valor.NodoBajo(arbol))\r\n",
        "\r\n",
        "if __name__=='__main__':\r\n",
        "    main()"
      ],
      "execution_count": null,
      "outputs": []
    },
    {
      "cell_type": "code",
      "metadata": {
        "id": "9mzBKpA1fQ81"
      },
      "source": [
        "class Nodo:\r\n",
        "    \r\n",
        "    def __init__(self, data):\r\n",
        "        self.data = data\r\n",
        "        self.izquierda = None\r\n",
        "        self.derecha = None\r\n",
        "\r\n",
        "class NodoAlto:\r\n",
        "\r\n",
        "    def encontrar(self, arbol, nivel, nivelmax, res):\r\n",
        "        if arbol !=None:\r\n",
        "            nivel+=1\r\n",
        "            self.encontrar(arbol.izquierda, nivel, nivelmax, res)\r\n",
        "            if nivel > nivelmax[0]:\r\n",
        "                res[0] = arbol.data\r\n",
        "                nivelmax[0] = nivel\r\n",
        "            self.encontrar(arbol.derecha, nivel, nivelmax, res)\r\n",
        "\r\n",
        "\r\n",
        "    def NodoBajo(self,arbol):\r\n",
        "        res = [-1]\r\n",
        "        nivelMax = [-1]\r\n",
        "        self.encontrar(arbol, 0, nivelMax, res)\r\n",
        "        return res[0]\r\n",
        "\r\n",
        "def main():\r\n",
        "    \r\n",
        "    arbol = Nodo(\"D\")\r\n",
        "    arbol.izquierda = Nodo(\"R\")\r\n",
        "    arbol.derecha = Nodo(\"M\")\r\n",
        "    arbol.izquierda.izquierda = Nodo(\"C\")\r\n",
        "    arbol.izquierda.derecha = Nodo(\"H\")\r\n",
        "    arbol.derecha.derecha = Nodo(\"A\")\r\n",
        "    arbol.derecha.izquierda = Nodo(\"S\")\r\n",
        "    arbol.derecha.derecha.derecha = Nodo(\"J\")\r\n",
        "    arbol.derecha.izquierda.izquierda = Nodo(\"B\")\r\n",
        "        \r\n",
        "\r\n",
        "\r\n",
        "    \r\n",
        "    valor = NodoAlto()\r\n",
        "    print('El nodo mas abajo es:', valor.NodoBajo(arbol))\r\n",
        "\r\n",
        "if __name__=='__main__':\r\n",
        "    main()\r\n",
        "    "
      ],
      "execution_count": null,
      "outputs": []
    },
    {
      "cell_type": "code",
      "metadata": {
        "id": "XF8vqjNKfQoZ"
      },
      "source": [
        "def main():\r\n",
        "\r\n",
        "    arbol = Nodo(1)\r\n",
        "    arbol.izquierda = Nodo(12)\r\n",
        "    arbol.derecha = Nodo(64)\r\n",
        "    arbol.izquierda.izquierda = Nodo(97)\r\n",
        "    arbol.izquierda.derecha = Nodo(16)\r\n",
        "    arbol.derecha.izquierda = Nodo(74)\r\n",
        "    arbol.derecha.derecha= Nodo(37)\r\n",
        "    arbol.derecha.derecha.derecha = Nodo(80)\r\n",
        "\r\n",
        "    valor = NodoAlto()\r\n",
        "    print('El nodo mas abajo es:', valor.NodoBajo(arbol))\r\n",
        "\r\n",
        "if __name__=='__main__':\r\n",
        "    main()"
      ],
      "execution_count": null,
      "outputs": []
    },
    {
      "cell_type": "code",
      "metadata": {
        "id": "o9dHzY0UfQhf"
      },
      "source": [
        ""
      ],
      "execution_count": null,
      "outputs": []
    }
  ]
}