{
  "nbformat": 4,
  "nbformat_minor": 0,
  "metadata": {
    "colab": {
      "name": "28septiembre.ipynb",
      "provenance": [],
      "toc_visible": true,
      "authorship_tag": "ABX9TyMBYmDsViWvuRzFyunqnQOy",
      "include_colab_link": true
    },
    "kernelspec": {
      "name": "python3",
      "display_name": "Python 3"
    }
  },
  "cells": [
    {
      "cell_type": "markdown",
      "metadata": {
        "id": "view-in-github",
        "colab_type": "text"
      },
      "source": [
        "<a href=\"https://colab.research.google.com/github/Crihstito/Daa_2021_1/blob/master/28septiembre.ipynb\" target=\"_parent\"><img src=\"https://colab.research.google.com/assets/colab-badge.svg\" alt=\"Open In Colab\"/></a>"
      ]
    },
    {
      "cell_type": "code",
      "metadata": {
        "id": "oam1D7oRCqbC"
      },
      "source": [
        ""
      ],
      "execution_count": 1,
      "outputs": []
    },
    {
      "cell_type": "markdown",
      "metadata": {
        "id": "CwvTPnVWECen"
      },
      "source": [
        "#Seccion 1"
      ]
    },
    {
      "cell_type": "markdown",
      "metadata": {
        "id": "b0aZpkKcEMku"
      },
      "source": [
        "En este archivo aprenderemos a programar en Python con la herramienta de Google colab.research\n",
        "Tambien aprenderemos a guardas nuestros cambios en un repocitorio de github.com"
      ]
    },
    {
      "cell_type": "markdown",
      "metadata": {
        "id": "QYGAUgzrEWgr"
      },
      "source": [
        "##Seccion 2"
      ]
    },
    {
      "cell_type": "code",
      "metadata": {
        "id": "XtivM8AwEZax",
        "outputId": "1e9dcaf9-2e25-4837-d53f-85d99ab25912",
        "colab": {
          "base_uri": "https://localhost:8080/",
          "height": 34
        }
      },
      "source": [
        "frutas = []\n",
        "frutas.append(\"Manzana\")\n",
        "frutas.append(\"Pina\")\n",
        "frutas.append(\"Kiwi\")\n",
        "print(frutas)"
      ],
      "execution_count": 4,
      "outputs": [
        {
          "output_type": "stream",
          "text": [
            "['Manzana', 'Pina', 'Kiwi']\n"
          ],
          "name": "stdout"
        }
      ]
    },
    {
      "cell_type": "code",
      "metadata": {
        "id": "A5gxFrCTHUj8"
      },
      "source": [
        "archivo = open('prueba_data.txt','wt')\n",
        "archivo.write(\"Hola mundo Jupyter\")\n",
        "archivo.close()"
      ],
      "execution_count": 5,
      "outputs": []
    },
    {
      "cell_type": "code",
      "metadata": {
        "id": "oT01fc6HIX0F"
      },
      "source": [
        ""
      ],
      "execution_count": null,
      "outputs": []
    }
  ]
}