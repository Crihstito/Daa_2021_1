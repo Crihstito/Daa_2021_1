{
  "nbformat": 4,
  "nbformat_minor": 0,
  "metadata": {
    "colab": {
      "name": "2 Diciembre.ipynb",
      "provenance": [],
      "authorship_tag": "ABX9TyP6XCbA2n0gKZxVfkfw6GJJ",
      "include_colab_link": true
    },
    "kernelspec": {
      "name": "python3",
      "display_name": "Python 3"
    }
  },
  "cells": [
    {
      "cell_type": "markdown",
      "metadata": {
        "id": "view-in-github",
        "colab_type": "text"
      },
      "source": [
        "<a href=\"https://colab.research.google.com/github/Crihstito/Daa_2021_1/blob/master/2_Diciembre.ipynb\" target=\"_parent\"><img src=\"https://colab.research.google.com/assets/colab-badge.svg\" alt=\"Open In Colab\"/></a>"
      ]
    },
    {
      "cell_type": "code",
      "metadata": {
        "id": "MRvNPYDW6sp_"
      },
      "source": [
        "def FuncionRecInfinita():\n",
        "  print(\"Hola\")\n",
        "  FuncionRecInfinita()\n"
      ],
      "execution_count": null,
      "outputs": []
    },
    {
      "cell_type": "code",
      "metadata": {
        "id": "g0aRwaQiA9vo"
      },
      "source": [
        "FuncionRecInfinita()"
      ],
      "execution_count": null,
      "outputs": []
    },
    {
      "cell_type": "code",
      "metadata": {
        "id": "-ChhmJ3FAmME"
      },
      "source": [
        "def fnRec(x):\n",
        "  if x == 0:\n",
        "    print(\"Stop\")\n",
        "  else:\n",
        "    print(\"Inicio del programa\")\n",
        "    fnRec()\n",
        "    prin(\"Fin del pregrama\")\n",
        "\n",
        "main()"
      ],
      "execution_count": null,
      "outputs": []
    },
    {
      "cell_type": "code",
      "metadata": {
        "id": "iHey759PBpQJ"
      },
      "source": [
        "def printRev(x):\n",
        "  if x > 0:\n",
        "    print(x)\n",
        "    printRev(x-1)\n",
        "printRev(x)"
      ],
      "execution_count": null,
      "outputs": []
    },
    {
      "cell_type": "code",
      "metadata": {
        "id": "HKldze1PJtqq"
      },
      "source": [
        "def fibonacci(n):\n",
        "  if n == 1 or n == 0:\n",
        "    return \n",
        "  else:\n",
        "    return (fibonacci-1 + fibonacci(n-2))\n",
        "\n",
        "print(fibonacci)"
      ],
      "execution_count": null,
      "outputs": []
    }
  ]
}