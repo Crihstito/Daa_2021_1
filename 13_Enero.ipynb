{
  "nbformat": 4,
  "nbformat_minor": 0,
  "metadata": {
    "colab": {
      "name": "13 Enero.ipynb",
      "provenance": [],
      "authorship_tag": "ABX9TyPENz2H5MiykqAmSMW+bKE2",
      "include_colab_link": true
    },
    "kernelspec": {
      "name": "python3",
      "display_name": "Python 3"
    }
  },
  "cells": [
    {
      "cell_type": "markdown",
      "metadata": {
        "id": "view-in-github",
        "colab_type": "text"
      },
      "source": [
        "<a href=\"https://colab.research.google.com/github/Crihstito/Daa_2021_1/blob/master/13_Enero.ipynb\" target=\"_parent\"><img src=\"https://colab.research.google.com/assets/colab-badge.svg\" alt=\"Open In Colab\"/></a>"
      ]
    },
    {
      "cell_type": "code",
      "metadata": {
        "id": "XqXB2ImUMk3M"
      },
      "source": [
        "class NodoArbol:\r\n",
        "  def __init__(self, dato, hijo_izq=None, hijo_der=None):\r\n",
        "    self.dato = dato\r\n",
        "    self.left = hijo_izq\r\n",
        "    self.right = hijo_der"
      ],
      "execution_count": null,
      "outputs": []
    },
    {
      "cell_type": "markdown",
      "metadata": {
        "id": "hkR9ygu8TVGO"
      },
      "source": [
        "#Arbol Binario de Busqueda\r\n",
        "Los nodos a la izquierda son merores a la raiz y los nodos a la derecha son mayores a la raiz. Pueden ser recorridos en: pre-orden, in-orden y post-orden."
      ]
    },
    {
      "cell_type": "code",
      "metadata": {
        "id": "86Xv3UpbTT9f"
      },
      "source": [
        "class BinarySearchTree:\r\n",
        "  def __init__(self):\r\n",
        "    self.__root = None\r\n",
        "\r\n",
        "  def insert(self, value):\r\n",
        "    if self.__root == None:\r\n",
        "      self.__root = NodoArbol(value,None,None)\r\n",
        "    else:\r\n",
        "      #preguntar si value es menor que root, de ser el caso\r\n",
        "      #Insertar a la izq, pero ... puede ser el caso que el sub arbol izq ya tiene muchos elementos...\r\n",
        "      self._insert_nodo__(self.__root, value)"
      ],
      "execution_count": 1,
      "outputs": []
    },
    {
      "cell_type": "code",
      "metadata": {
        "id": "WQFVxkkRVhj4"
      },
      "source": [
        "def __insert_nodo__(self, nodo, value):\r\n",
        "  if nodo.dato == value:\r\n",
        "    pass\r\n",
        "  elif value < nodo.dato: #true va a la izq:\r\n",
        "    if nodo.lelf == None: #Si hay espacio en la izq, ahi va\r\n",
        "      nodo.left = NodoArbol(value, None, None)\r\n",
        "\r\n",
        "    else:\r\n",
        "      self.__insert_nodo__(nodo.left, value)#buscar en sub arbol izquierdo\r\n",
        "\r\n",
        "  else:\r\n",
        "    if nodo.right == None:\r\n",
        "        nodo.right = NodoArbol(Value, None, None)\r\n",
        "    else:\r\n",
        "        self.__insert_nodo__(nodo.right, value)#buscar en sub arbol derecho"
      ],
      "execution_count": 4,
      "outputs": []
    },
    {
      "cell_type": "code",
      "metadata": {
        "id": "Iu3uc30KbqGi"
      },
      "source": [
        "bst=BinarySearchTree()\r\n",
        "bst.insert(50)\r\n",
        "bst.insert(30)\r\n",
        "bst.insert(20)\r\n",
        "#bst.search(50)#true o false"
      ],
      "execution_count": null,
      "outputs": []
    }
  ]
}