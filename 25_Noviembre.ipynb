{
  "nbformat": 4,
  "nbformat_minor": 0,
  "metadata": {
    "colab": {
      "name": "25 Noviembre.ipynb",
      "provenance": [],
      "authorship_tag": "ABX9TyNpx2LgwapQcyI8UgtalEhG",
      "include_colab_link": true
    },
    "kernelspec": {
      "name": "python3",
      "display_name": "Python 3"
    }
  },
  "cells": [
    {
      "cell_type": "markdown",
      "metadata": {
        "id": "view-in-github",
        "colab_type": "text"
      },
      "source": [
        "<a href=\"https://colab.research.google.com/github/Crihstito/Daa_2021_1/blob/master/25_Noviembre.ipynb\" target=\"_parent\"><img src=\"https://colab.research.google.com/assets/colab-badge.svg\" alt=\"Open In Colab\"/></a>"
      ]
    },
    {
      "cell_type": "code",
      "metadata": {
        "colab": {
          "base_uri": "https://localhost:8080/"
        },
        "id": "8mcOHxsfCdZ_",
        "outputId": "174684cb-728f-4589-cf20-18c1ad48f1d3"
      },
      "source": [
        "frase=\"\"\"El lema que anima a la Universidad Nacional, Por mi raza hablará el espíritu, revela la vocación humanística con la que fue concebida. El autor de esta célebre frase, José Vasconcelos, asumió la rectoría en 1920, en una época en que las esperanzas de la Revolución aún estaban vivas,\n",
        " había una gran fé en la Patria y el ánimo redentor se extendía en el ambiente.\"\"\"\n",
        "frase=frase.strip().replace(\",\",\"\").replace(\".\",\"\").lower().split(\" \")\n",
        "print(frase)\n",
        "#for index in range(len(frase)):\n",
        "  #for pivote in range(index +1,len(frase),1):\n",
        "    #print(frase[index],\"Comparada contra: \",frase[pivote])\n",
        "frecuencias = {}\n",
        "for index in range(len(frase)):\n",
        "  if frase[index] in frecuencias: #'el in frecuencias'\n",
        "    pass\n",
        "  else:\n",
        "    frecuencias[frase[index]] = 1 #frecuencias ['el'] = 1 --> ['el' : 1] \n",
        "    for pivote in range(index +1, len(frase),1):\n",
        "      #print(frase[index], \"comparada contra:\", frase[pivote])\n",
        "      if frase[index] == frase[pivote]:\n",
        "        frecuencias[frase[index]] += 1\n",
        "print(frecuencias)"
      ],
      "execution_count": 1,
      "outputs": [
        {
          "output_type": "stream",
          "text": [
            "['el', 'lema', 'que', 'anima', 'a', 'la', 'universidad', 'nacional', 'por', 'mi', 'raza', 'hablará', 'el', 'espíritu', 'revela', 'la', 'vocación', 'humanística', 'con', 'la', 'que', 'fue', 'concebida', 'el', 'autor', 'de', 'esta', 'célebre', 'frase', 'josé', 'vasconcelos', 'asumió', 'la', 'rectoría', 'en', '1920', 'en', 'una', 'época', 'en', 'que', 'las', 'esperanzas', 'de', 'la', 'revolución', 'aún', 'estaban', 'vivas\\n', 'había', 'una', 'gran', 'fé', 'en', 'la', 'patria', 'y', 'el', 'ánimo', 'redentor', 'se', 'extendía', 'en', 'el', 'ambiente']\n",
            "{'el': 5, 'lema': 1, 'que': 3, 'anima': 1, 'a': 1, 'la': 6, 'universidad': 1, 'nacional': 1, 'por': 1, 'mi': 1, 'raza': 1, 'hablará': 1, 'espíritu': 1, 'revela': 1, 'vocación': 1, 'humanística': 1, 'con': 1, 'fue': 1, 'concebida': 1, 'autor': 1, 'de': 2, 'esta': 1, 'célebre': 1, 'frase': 1, 'josé': 1, 'vasconcelos': 1, 'asumió': 1, 'rectoría': 1, 'en': 5, '1920': 1, 'una': 2, 'época': 1, 'las': 1, 'esperanzas': 1, 'revolución': 1, 'aún': 1, 'estaban': 1, 'vivas\\n': 1, 'había': 1, 'gran': 1, 'fé': 1, 'patria': 1, 'y': 1, 'ánimo': 1, 'redentor': 1, 'se': 1, 'extendía': 1, 'ambiente': 1}\n"
          ],
          "name": "stdout"
        }
      ]
    },
    {
      "cell_type": "code",
      "metadata": {
        "id": "Ijk3gJdBGIvT"
      },
      "source": [
        ""
      ],
      "execution_count": null,
      "outputs": []
    },
    {
      "cell_type": "code",
      "metadata": {
        "id": "maMwzS7ICqpb"
      },
      "source": [
        "palabra='hola'\n",
        "print(hash(palabra))\n",
        "palabra='hole'\n",
        "print(hash(palabra))"
      ],
      "execution_count": null,
      "outputs": []
    },
    {
      "cell_type": "markdown",
      "metadata": {
        "id": "hiNSH73QGDkg"
      },
      "source": [
        ""
      ]
    },
    {
      "cell_type": "code",
      "metadata": {
        "colab": {
          "base_uri": "https://localhost:8080/"
        },
        "id": "UOo5Lkw5GJg4",
        "outputId": "6c5bf4c7-40c1-47b7-d735-46103c557004"
      },
      "source": [
        "frase=\"\"\"El lema que anima a la Universidad Nacional, Por mi raza hablará el espíritu, revela la vocación humanística con la que fue concebida. El autor de esta célebre frase, José Vasconcelos, asumió la rectoría en 1920, en una época en que las esperanzas de la Revolución aún estaban vivas,\n",
        " había una gran fé en la Patria y el ánimo redentor se extendía en el ambiente.\"\"\"\n",
        "frase=frase.strip().replace(\",\",\"\").replace(\".\",\"\").lower().split(\" \")\n",
        "print(frase)\n",
        "frecuencias = {}\n",
        "for index in range(len(frase)):\n",
        "  print(hash(frase[index]))\n",
        "  if frase[index] in frecuencias:\n",
        "    frecuencias[frase[index]] += 1\n",
        "  else:\n",
        "    frecuencias[frase[index]] = 1\n",
        "print(frecuencias)"
      ],
      "execution_count": 3,
      "outputs": [
        {
          "output_type": "stream",
          "text": [
            "['el', 'lema', 'que', 'anima', 'a', 'la', 'universidad', 'nacional', 'por', 'mi', 'raza', 'hablará', 'el', 'espíritu', 'revela', 'la', 'vocación', 'humanística', 'con', 'la', 'que', 'fue', 'concebida', 'el', 'autor', 'de', 'esta', 'célebre', 'frase', 'josé', 'vasconcelos', 'asumió', 'la', 'rectoría', 'en', '1920', 'en', 'una', 'época', 'en', 'que', 'las', 'esperanzas', 'de', 'la', 'revolución', 'aún', 'estaban', 'vivas\\n', 'había', 'una', 'gran', 'fé', 'en', 'la', 'patria', 'y', 'el', 'ánimo', 'redentor', 'se', 'extendía', 'en', 'el', 'ambiente']\n",
            "-6785786741742892850\n",
            "474878517887618813\n",
            "-6595270523300123221\n",
            "-124873922238469624\n",
            "1767482133066555986\n",
            "-8640539864739917576\n",
            "8046217253568109094\n",
            "8847444713386826241\n",
            "2108723185475472297\n",
            "-1219581353474789615\n",
            "-1756603620540364537\n",
            "1496486130491391375\n",
            "-6785786741742892850\n",
            "1566607913846255769\n",
            "-6909872700714419634\n",
            "-8640539864739917576\n",
            "1424242925872466732\n",
            "-5427777924745006889\n",
            "-3480699234451437927\n",
            "-8640539864739917576\n",
            "-6595270523300123221\n",
            "-7590222838554157810\n",
            "5665336569852683367\n",
            "-6785786741742892850\n",
            "7936741598112925783\n",
            "-4559529867623987291\n",
            "8596790443835739722\n",
            "4223412035706128590\n",
            "-3731227684816857007\n",
            "7734349254255272126\n",
            "2992487099121690010\n",
            "2803714877405483688\n",
            "-8640539864739917576\n",
            "-9213543410855557325\n",
            "-5073151310699663786\n",
            "5682461915484123841\n",
            "-5073151310699663786\n",
            "-7176693595680091057\n",
            "-301154502684257606\n",
            "-5073151310699663786\n",
            "-6595270523300123221\n",
            "-3531297745105151911\n",
            "-5253734320548049668\n",
            "-4559529867623987291\n",
            "-8640539864739917576\n",
            "4757250383609361933\n",
            "2602698990412991667\n",
            "-943796131160943422\n",
            "3388888204307897680\n",
            "6067260235228682835\n",
            "-7176693595680091057\n",
            "6194691019268287096\n",
            "-2715648928555367055\n",
            "-5073151310699663786\n",
            "-8640539864739917576\n",
            "8327837812925427724\n",
            "8740111586937948116\n",
            "-6785786741742892850\n",
            "216815268860182405\n",
            "-1984126790580989215\n",
            "-7972380041502575573\n",
            "-7087371974575469179\n",
            "-5073151310699663786\n",
            "-6785786741742892850\n",
            "8932598297152784988\n",
            "{'el': 5, 'lema': 1, 'que': 3, 'anima': 1, 'a': 1, 'la': 6, 'universidad': 1, 'nacional': 1, 'por': 1, 'mi': 1, 'raza': 1, 'hablará': 1, 'espíritu': 1, 'revela': 1, 'vocación': 1, 'humanística': 1, 'con': 1, 'fue': 1, 'concebida': 1, 'autor': 1, 'de': 2, 'esta': 1, 'célebre': 1, 'frase': 1, 'josé': 1, 'vasconcelos': 1, 'asumió': 1, 'rectoría': 1, 'en': 5, '1920': 1, 'una': 2, 'época': 1, 'las': 1, 'esperanzas': 1, 'revolución': 1, 'aún': 1, 'estaban': 1, 'vivas\\n': 1, 'había': 1, 'gran': 1, 'fé': 1, 'patria': 1, 'y': 1, 'ánimo': 1, 'redentor': 1, 'se': 1, 'extendía': 1, 'ambiente': 1}\n"
          ],
          "name": "stdout"
        }
      ]
    },
    {
      "cell_type": "code",
      "metadata": {
        "id": "JdEJvKLfG0g7"
      },
      "source": [
        ""
      ],
      "execution_count": null,
      "outputs": []
    }
  ]
}