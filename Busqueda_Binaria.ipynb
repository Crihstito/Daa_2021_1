{
  "nbformat": 4,
  "nbformat_minor": 0,
  "metadata": {
    "colab": {
      "name": "Busqueda Binaria",
      "provenance": [],
      "authorship_tag": "ABX9TyMTh6aSVn0ONMejgj1JB7zM",
      "include_colab_link": true
    },
    "kernelspec": {
      "name": "python3",
      "display_name": "Python 3"
    }
  },
  "cells": [
    {
      "cell_type": "markdown",
      "metadata": {
        "id": "view-in-github",
        "colab_type": "text"
      },
      "source": [
        "<a href=\"https://colab.research.google.com/github/Crihstito/Daa_2021_1/blob/master/Busqueda_Binaria.ipynb\" target=\"_parent\"><img src=\"https://colab.research.google.com/assets/colab-badge.svg\" alt=\"Open In Colab\"/></a>"
      ]
    },
    {
      "cell_type": "code",
      "metadata": {
        "id": "APju66L9IKzD",
        "colab": {
          "base_uri": "https://localhost:8080/"
        },
        "outputId": "5977b879-3fec-4d3b-bf1a-c308dc184f43"
      },
      "source": [
        "alumno1={'id':2, 'nombre':\"Juan\" , 'carrera':\"ICO\", 'promedio':7.67}\r\n",
        "alumno2={'id':4, 'nombre':\"Rocio\" , 'carrera':\"ICI\", 'promedio':8.67}\r\n",
        "alumno3={'id':5, 'nombre':\"Diego\" , 'carrera':\"DER\", 'promedio':8.98}\r\n",
        "alumno4={'id':7, 'nombre':\"May\" , 'carrera':\"ICI\", 'promedio':9.87}\r\n",
        "alumno5={'id':9, 'nombre':\"Rob\" , 'carrera':\"IME\", 'promedio':10.00}\r\n",
        "alumno6={'id':10, 'nombre':\"Santi\" , 'carrera':\"ICO\", 'promedio':5.37}\r\n",
        "alumno7={'id':14, 'nombre':\"Moy\" , 'carrera':\"IME\", 'promedio':6.85}\r\n",
        "alumno8={'id':16, 'nombre':\"Diana\" , 'carrera':\"DER\", 'promedio':9.99}\r\n",
        "alumno9={'id':19, 'nombre':\"Zoila\" , 'carrera':\"ICO\", 'promedio':8.22}\r\n",
        "alumno10={'id':22, 'nombre':\"Armando\" , 'carrera':\"ICO\", 'promedio':7.32}\r\n",
        "\r\n",
        "\r\n",
        "bd = []\r\n",
        "bd.append(alumno1)\r\n",
        "bd.append(alumno2)\r\n",
        "bd.append(alumno3)\r\n",
        "bd.append(alumno4)\r\n",
        "bd.append(alumno5)\r\n",
        "bd.append(alumno6)\r\n",
        "bd.append(alumno7)\r\n",
        "bd.append(alumno8)\r\n",
        "bd.append(alumno9)\r\n",
        "bd.append(alumno10)\r\n",
        "\r\n",
        "\r\n",
        "\r\n",
        "dato= int(input(\"Cual es el ID que deseas buscar:? \\n\"))  #Preguntamos el id del alumno y lo convertimos un numero entero\r\n",
        "min=0                #Creamos una variable con el numero minimo que puede aceptar la funcion\r\n",
        "max=len(bd)-1        #El numero maximo va ser el tamaño de los alumnos que tengamos\r\n",
        "\r\n",
        "def buscador(bd, dato,min,max): #Creamos una funcion que se dedique a buscar en los diccionarios de los alumnos \r\n",
        "    try:\r\n",
        "        medio=(min+max)//2\r\n",
        "        if dato <= bd[medio]['id']:    \r\n",
        "            if dato == bd[medio]['id']:\r\n",
        "                print(f\"{bd[medio]['nombre']} estudia la carrera {bd[medio]['carrera']} y tiene un promedio de {bd[medio]['promedio']}\") \r\n",
        "            else:\r\n",
        "                medio-=1\r\n",
        "                buscar(bd, dato, min, medio)\r\n",
        "        elif dato> bd[medio]['id']:\r\n",
        "            if dato == bd[medio]['id']:\r\n",
        "                print(f\"{bd[medio]['nombre']} estudia la carrera {bd[medio]['carrera']} y tiene un promedio de {bd[medio]['promedio']}\") \r\n",
        "            else:\r\n",
        "                medio+=1\r\n",
        "                buscar(bd, dato, medio, max)\r\n",
        "    except:\r\n",
        "        print(\"El alumno no existe en la base de datos.\")\r\n",
        "\r\n",
        "\r\n",
        "buscador(bd, dato, min, max)"
      ],
      "execution_count": 6,
      "outputs": [
        {
          "output_type": "stream",
          "text": [
            "Cual es el ID que deseas buscar:? \n",
            "5\n",
            "Diego estudia la carrera DER y tiene un promedio de 8.98\n"
          ],
          "name": "stdout"
        }
      ]
    },
    {
      "cell_type": "code",
      "metadata": {
        "id": "4Cdf3HvmbAlO"
      },
      "source": [
        ""
      ],
      "execution_count": null,
      "outputs": []
    }
  ]
}