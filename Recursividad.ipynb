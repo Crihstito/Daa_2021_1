{
  "nbformat": 4,
  "nbformat_minor": 0,
  "metadata": {
    "colab": {
      "name": "Recursividad.ipynb",
      "provenance": [],
      "authorship_tag": "ABX9TyMsuNPtEXJp8JdsjpDd0gAY",
      "include_colab_link": true
    },
    "kernelspec": {
      "name": "python3",
      "display_name": "Python 3"
    }
  },
  "cells": [
    {
      "cell_type": "markdown",
      "metadata": {
        "id": "view-in-github",
        "colab_type": "text"
      },
      "source": [
        "<a href=\"https://colab.research.google.com/github/Crihstito/Daa_2021_1/blob/master/Recursividad.ipynb\" target=\"_parent\"><img src=\"https://colab.research.google.com/assets/colab-badge.svg\" alt=\"Open In Colab\"/></a>"
      ]
    },
    {
      "cell_type": "code",
      "metadata": {
        "colab": {
          "base_uri": "https://localhost:8080/"
        },
        "id": "SmC3q9_ZUPW4",
        "outputId": "7977b47d-be55-44a8-f753-27f3e1a60c70"
      },
      "source": [
        "def suma(list,index,sum):\n",
        "    if index<len(list):\n",
        "        sum=sum+list[index]\n",
        "        suma(list,index+1,sum)\n",
        "    if index==len(list)-1:\n",
        "        print(sum)\n",
        "list=[1,2,3,4,5,6,7,8]\n",
        "suma(list,0,0)\n"
      ],
      "execution_count": 4,
      "outputs": [
        {
          "output_type": "stream",
          "text": [
            "36\n"
          ],
          "name": "stdout"
        }
      ]
    },
    {
      "cell_type": "code",
      "metadata": {
        "colab": {
          "base_uri": "https://localhost:8080/"
        },
        "id": "U4BSrswZUzqD",
        "outputId": "3454e676-7f1d-49ca-84ed-acba8a5ab33d"
      },
      "source": [
        "def bomba( i ):\n",
        "    if i > 0:\n",
        "      \n",
        "        print(i)\n",
        "        cont(i - 1)\n",
        "print(\"La bomba explotara en\")\n",
        "cont(5)\n",
        "print(\"Boooooooooom\")"
      ],
      "execution_count": 7,
      "outputs": [
        {
          "output_type": "stream",
          "text": [
            "La bomba explotara en\n",
            "5\n",
            "4\n",
            "3\n",
            "2\n",
            "1\n",
            "Boooooooooom\n"
          ],
          "name": "stdout"
        }
      ]
    },
    {
      "cell_type": "code",
      "metadata": {
        "id": "TQed_EwOU4K7"
      },
      "source": [
        "class Stack:\n",
        "  def __init__(self):\n",
        "    self.__datos=[]\n",
        "\n",
        "  def is_empty(self):\n",
        "    return len(self.__datos)==0\n",
        "\n",
        "  def get_top(self):\n",
        "    return self.__datos[-1]\n",
        "\n",
        "  def pop(self):\n",
        "    return self.__datos.pop()\n",
        "\n",
        "  def push(self,valor):\n",
        "    self.__datos.append(valor)\n",
        "\n",
        "  def get_length(self):\n",
        "    return len(self.__datos)\n",
        "\n",
        "  def to_string(self):\n",
        "    print(\"***\")\n",
        "    for i in self.__datos[-1::-1]:\n",
        "      print(i)\n",
        "    print(\"***\")\n",
        "    print()\n",
        "\n",
        "def medio(pila,m,x,i):\n",
        "    bandera=0\n",
        "    if m>i:\n",
        "        x=pila.pop()\n",
        "        i+=1\n",
        "        medio(pila,m,x,i)\n",
        "    if m==i:\n",
        "        pila.pop()\n",
        "    pila.push(x)\n",
        "\n",
        "pila=Stack()\n",
        "pila.push(1)\n",
        "pila.push(2)\n",
        "pila.push(3)\n",
        "pila.push(4)\n",
        "pila.push(5)\n",
        "pila.push(6)\n",
        "pila.push(7)\n",
        "pila.push(8)\n",
        "pila.push(9)\n",
        "pila.push(10)\n",
        "m=pila.get_length()//2\n",
        "pila.to_string()\n",
        "medio(pila,m,0,0)\n",
        "pila.to_string()"
      ],
      "execution_count": null,
      "outputs": []
    }
  ]
}